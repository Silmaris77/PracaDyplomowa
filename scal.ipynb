{
 "cells": [
  {
   "cell_type": "code",
   "execution_count": 1,
   "id": "002a2d70",
   "metadata": {},
   "outputs": [],
   "source": [
    "from PyPDF2 import PdfMerger\n",
    "\n",
    "# lista plików do połączenia\n",
    "pliki = [\"1.pdf\", \"2.pdf\"]\n",
    "\n",
    "merger = PdfMerger()\n",
    "\n",
    "for pdf in pliki:\n",
    "    merger.append(pdf)\n",
    "\n",
    "merger.write(\"scalony.pdf\")\n",
    "merger.close()\n"
   ]
  }
 ],
 "metadata": {
  "kernelspec": {
   "display_name": "Python 3",
   "language": "python",
   "name": "python3"
  },
  "language_info": {
   "codemirror_mode": {
    "name": "ipython",
    "version": 3
   },
   "file_extension": ".py",
   "mimetype": "text/x-python",
   "name": "python",
   "nbconvert_exporter": "python",
   "pygments_lexer": "ipython3",
   "version": "3.13.3"
  }
 },
 "nbformat": 4,
 "nbformat_minor": 5
}
